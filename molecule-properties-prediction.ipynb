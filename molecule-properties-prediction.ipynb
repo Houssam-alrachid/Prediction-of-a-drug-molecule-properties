{
 "cells": [
  {
   "cell_type": "markdown",
   "metadata": {},
   "source": [
    "# Prediction of a drug molecule properties"
   ]
  },
  {
   "cell_type": "markdown",
   "metadata": {},
   "source": [
    "## Introduction\n",
    "\n",
    "The prediction of a drug molecule properties plays an important role in the drug design process. The molecule properties are the cause of failure for 60% of all drugs in the clinical phases. A multi parameters optimization using machine learning methods can be used to choose an optimized molecule to be subjected to more extensive studies and to avoid any clinical phase failure.\n",
    "\n",
    "The objective of this project is to develop multiple deep learning models to predict one or more basic properties of a molecule using its fingerprint features.\n"
   ]
  },
  {
   "cell_type": "markdown",
   "metadata": {},
   "source": [
    "## I. Import Librairies"
   ]
  },
  {
   "cell_type": "code",
   "execution_count": 1,
   "metadata": {},
   "outputs": [],
   "source": [
    "import pandas as pd\n",
    "import matplotlib.pyplot as plt\n",
    "import seaborn as sns\n",
    "sns.set_style('whitegrid')\n",
    "from matplotlib import gridspec\n",
    "%matplotlib inline\n",
    "import servier.src.config as config\n",
    "import servier.src.main as main\n",
    "from sklearn.metrics import  accuracy_score, confusion_matrix\n",
    "from keras.models import load_model"
   ]
  },
  {
   "cell_type": "markdown",
   "metadata": {},
   "source": [
    "## II - Exploratory Data Analysis\n",
    "\n",
    "Let's start creating statistics and visualizations on my dataset to identify good columns for modeling, potential data quality issues and anticipate potential feature transformations necessary..."
   ]
  },
  {
   "cell_type": "markdown",
   "metadata": {},
   "source": [
    "### II.1 Import Data"
   ]
  },
  {
   "cell_type": "code",
   "execution_count": 2,
   "metadata": {},
   "outputs": [
    {
     "name": "stdout",
     "output_type": "stream",
     "text": [
      "Index(['P1', 'mol_id', 'smiles'], dtype='object')\n"
     ]
    },
    {
     "data": {
      "text/html": [
       "<div>\n",
       "<style scoped>\n",
       "    .dataframe tbody tr th:only-of-type {\n",
       "        vertical-align: middle;\n",
       "    }\n",
       "\n",
       "    .dataframe tbody tr th {\n",
       "        vertical-align: top;\n",
       "    }\n",
       "\n",
       "    .dataframe thead th {\n",
       "        text-align: right;\n",
       "    }\n",
       "</style>\n",
       "<table border=\"1\" class=\"dataframe\">\n",
       "  <thead>\n",
       "    <tr style=\"text-align: right;\">\n",
       "      <th></th>\n",
       "      <th>P1</th>\n",
       "      <th>mol_id</th>\n",
       "      <th>smiles</th>\n",
       "    </tr>\n",
       "  </thead>\n",
       "  <tbody>\n",
       "    <tr>\n",
       "      <th>0</th>\n",
       "      <td>1</td>\n",
       "      <td>CID2999678</td>\n",
       "      <td>Cc1cccc(N2CCN(C(=O)C34CC5CC(CC(C5)C3)C4)CC2)c1C</td>\n",
       "    </tr>\n",
       "    <tr>\n",
       "      <th>1</th>\n",
       "      <td>0</td>\n",
       "      <td>CID2999679</td>\n",
       "      <td>Cn1ccnc1SCC(=O)Nc1ccc(Oc2ccccc2)cc1</td>\n",
       "    </tr>\n",
       "    <tr>\n",
       "      <th>2</th>\n",
       "      <td>1</td>\n",
       "      <td>CID2999672</td>\n",
       "      <td>COc1cc2c(cc1NC(=O)CN1C(=O)NC3(CCc4ccccc43)C1=O...</td>\n",
       "    </tr>\n",
       "    <tr>\n",
       "      <th>3</th>\n",
       "      <td>0</td>\n",
       "      <td>CID5390002</td>\n",
       "      <td>O=C1/C(=C/NC2CCS(=O)(=O)C2)c2ccccc2C(=O)N1c1cc...</td>\n",
       "    </tr>\n",
       "    <tr>\n",
       "      <th>4</th>\n",
       "      <td>1</td>\n",
       "      <td>CID2999670</td>\n",
       "      <td>NC(=O)NC(Cc1ccccc1)C(=O)O</td>\n",
       "    </tr>\n",
       "  </tbody>\n",
       "</table>\n",
       "</div>"
      ],
      "text/plain": [
       "   P1      mol_id                                             smiles\n",
       "0   1  CID2999678    Cc1cccc(N2CCN(C(=O)C34CC5CC(CC(C5)C3)C4)CC2)c1C\n",
       "1   0  CID2999679                Cn1ccnc1SCC(=O)Nc1ccc(Oc2ccccc2)cc1\n",
       "2   1  CID2999672  COc1cc2c(cc1NC(=O)CN1C(=O)NC3(CCc4ccccc43)C1=O...\n",
       "3   0  CID5390002  O=C1/C(=C/NC2CCS(=O)(=O)C2)c2ccccc2C(=O)N1c1cc...\n",
       "4   1  CID2999670                          NC(=O)NC(Cc1ccccc1)C(=O)O"
      ]
     },
     "execution_count": 2,
     "metadata": {},
     "output_type": "execute_result"
    }
   ],
   "source": [
    "X,y,df = main.read_data(data_path=config.path_single, col_smiles='smiles', col_target=config.COL_TARGET_SINGLE)\n",
    "print(df.columns)\n",
    "df.head()"
   ]
  },
  {
   "cell_type": "markdown",
   "metadata": {},
   "source": [
    "### II.2 Missing Values and syntax error"
   ]
  },
  {
   "cell_type": "code",
   "execution_count": 3,
   "metadata": {},
   "outputs": [
    {
     "name": "stdout",
     "output_type": "stream",
     "text": [
      "Type of features:\n",
      "P1         int64\n",
      "mol_id    object\n",
      "smiles    object\n",
      "dtype: object\n",
      "Shape of data:\n",
      "(4999, 3)\n",
      "Descriptive statistics of numerical features:\n",
      "                P1\n",
      "count  4999.000000\n",
      "mean      0.821764\n",
      "std       0.382749\n",
      "min       0.000000\n",
      "25%       1.000000\n",
      "50%       1.000000\n",
      "75%       1.000000\n",
      "max       1.000000\n"
     ]
    }
   ],
   "source": [
    "# Print the shape of the data\n",
    "print(\"Type of features:\")\n",
    "print(df.dtypes)\n",
    "print(\"Shape of data:\")\n",
    "print(df.shape)\n",
    "print(\"Descriptive statistics of numerical features:\")\n",
    "print(df.describe())"
   ]
  },
  {
   "cell_type": "code",
   "execution_count": 4,
   "metadata": {},
   "outputs": [
    {
     "data": {
      "text/plain": [
       "P1        0.0\n",
       "mol_id    0.0\n",
       "smiles    0.0\n",
       "dtype: float64"
      ]
     },
     "execution_count": 4,
     "metadata": {},
     "output_type": "execute_result"
    }
   ],
   "source": [
    "# Now let's check to see if there are any NaN or missing values\n",
    "# Percent missing values per columns\n",
    "(df.isna().sum()/df.shape[0])*100"
   ]
  },
  {
   "cell_type": "markdown",
   "metadata": {},
   "source": [
    "No missing data ..."
   ]
  },
  {
   "cell_type": "code",
   "execution_count": 5,
   "metadata": {},
   "outputs": [
    {
     "data": {
      "text/plain": [
       "0"
      ]
     },
     "execution_count": 5,
     "metadata": {},
     "output_type": "execute_result"
    }
   ],
   "source": [
    "# Duplicates after handling missing values\n",
    "df[df.duplicated()].shape[0]"
   ]
  },
  {
   "cell_type": "markdown",
   "metadata": {},
   "source": [
    "No duplicated entries"
   ]
  },
  {
   "cell_type": "code",
   "execution_count": 6,
   "metadata": {},
   "outputs": [
    {
     "name": "stdout",
     "output_type": "stream",
     "text": [
      "Number of unique molecule ID in the dataset: 4999\n",
      "Number of unique Smiles in the dataset: 4999\n",
      "Number of unique P1 values in the dataset: 2\n"
     ]
    }
   ],
   "source": [
    "# Check unique values in variables\n",
    "print(\"Number of unique molecule ID in the dataset:\", df['mol_id'].nunique())\n",
    "print(\"Number of unique Smiles in the dataset:\", df['smiles'].nunique())\n",
    "print(\"Number of unique P1 values in the dataset:\", df['P1'].nunique())"
   ]
  },
  {
   "cell_type": "code",
   "execution_count": 7,
   "metadata": {},
   "outputs": [
    {
     "data": {
      "text/plain": [
       "1    82.176435\n",
       "0    17.823565\n",
       "Name: P1, dtype: float64"
      ]
     },
     "execution_count": 7,
     "metadata": {},
     "output_type": "execute_result"
    }
   ],
   "source": [
    "# Target variable values distribution\n",
    "df['P1'].value_counts()*100/df.shape[0]"
   ]
  },
  {
   "cell_type": "markdown",
   "metadata": {},
   "source": [
    "We remark that 17.8% only of the entries are considered of property P1 = 0 and 82.2% of property P1 = 1. \n",
    "\n",
    "That's mean the our dataset is unbalanced, which may have negative consequences later!!!"
   ]
  },
  {
   "cell_type": "markdown",
   "metadata": {},
   "source": [
    "### II.3 Visualization"
   ]
  },
  {
   "cell_type": "code",
   "execution_count": 8,
   "metadata": {},
   "outputs": [
    {
     "name": "stderr",
     "output_type": "stream",
     "text": [
      "c:\\Users\\Halrachid\\Anaconda3\\envs\\servier\\lib\\site-packages\\seaborn\\distributions.py:2619: FutureWarning: `distplot` is a deprecated function and will be removed in a future version. Please adapt your code to use either `displot` (a figure-level function with similar flexibility) or `histplot` (an axes-level function for histograms).\n",
      "  warnings.warn(msg, FutureWarning)\n"
     ]
    },
    {
     "data": {
      "text/plain": [
       "Text(0, 0.5, 'Distribution')"
      ]
     },
     "execution_count": 8,
     "metadata": {},
     "output_type": "execute_result"
    },
    {
     "data": {
      "image/png": "[encoded data removed]",
      "text/plain": [
       "<Figure size 432x288 with 1 Axes>"
      ]
     },
     "metadata": {
      "needs_background": "light"
     },
     "output_type": "display_data"
    }
   ],
   "source": [
    "# Univariate visualization\n",
    "# Distribution of average_seconds_played\n",
    "P1 = [df['P1'].values]\n",
    "plt.figure(figsize=(6,4))\n",
    "sns.distplot(P1)\n",
    "plt.xlabel('P1')\n",
    "plt.ylabel('Distribution')"
   ]
  },
  {
   "cell_type": "markdown",
   "metadata": {},
   "source": [
    "## III. Modeling and evaluation\n",
    "\n",
    "We recall the goal of this project to develop a best suited algorithm to predict the class of one or more molecule properties."
   ]
  },
  {
   "cell_type": "markdown",
   "metadata": {},
   "source": [
    "### III.1 Model 1: Feed Frward Neural Network\n",
    "This model takes the extracted features of a molecule as input and predict the P1 property. We use the function *fingerprint_features* of the\n",
    "*feature_extractor.py* module to extract the features from a molecule smile. The output of this module is a vector of size **2048** that we will use as an input for our models. We concatenate this vector to the dataset for each entry (molecule)."
   ]
  },
  {
   "cell_type": "code",
   "execution_count": 9,
   "metadata": {},
   "outputs": [
    {
     "name": "stdout",
     "output_type": "stream",
     "text": [
      " Train a one dimensional classification model\n",
      "Model: \"sequential\"\n",
      "_________________________________________________________________\n",
      "Layer (type)                 Output Shape              Param #   \n",
      "=================================================================\n",
      "dense (Dense)                (None, 16)                32784     \n",
      "_________________________________________________________________\n",
      "dense_1 (Dense)              (None, 24)                408       \n",
      "_________________________________________________________________\n",
      "dropout (Dropout)            (None, 24)                0         \n",
      "_________________________________________________________________\n",
      "dense_2 (Dense)              (None, 20)                500       \n",
      "_________________________________________________________________\n",
      "dense_3 (Dense)              (None, 24)                504       \n",
      "_________________________________________________________________\n",
      "dense_4 (Dense)              (None, 1)                 25        \n",
      "=================================================================\n",
      "Total params: 34,221\n",
      "Trainable params: 34,221\n",
      "Non-trainable params: 0\n",
      "_________________________________________________________________\n"
     ]
    },
    {
     "name": "stderr",
     "output_type": "stream",
     "text": [
      "c:\\Users\\Halrachid\\Anaconda3\\envs\\servier\\lib\\site-packages\\keras\\optimizer_v2\\optimizer_v2.py:356: UserWarning: The `lr` argument is deprecated, use `learning_rate` instead.\n",
      "  \"The `lr` argument is deprecated, use `learning_rate` instead.\")\n"
     ]
    },
    {
     "name": "stdout",
     "output_type": "stream",
     "text": [
      "Epoch 1/100\n",
      "125/125 - 2s - loss: 0.6932 - accuracy: 0.4974 - val_loss: 0.6936 - val_accuracy: 0.1760\n",
      "\n",
      "Epoch 00001: saving model to servier/models\\FF.h5\n",
      "Epoch 2/100\n",
      "125/125 - 0s - loss: 0.6728 - accuracy: 0.5094 - val_loss: 0.6999 - val_accuracy: 0.5570\n",
      "\n",
      "Epoch 00002: saving model to servier/models\\FF.h5\n",
      "Epoch 3/100\n",
      "125/125 - 0s - loss: 0.5595 - accuracy: 0.7119 - val_loss: 0.5854 - val_accuracy: 0.6910\n",
      "\n",
      "Epoch 00003: saving model to servier/models\\FF.h5\n",
      "Epoch 4/100\n",
      "125/125 - 0s - loss: 0.4833 - accuracy: 0.7589 - val_loss: 0.5282 - val_accuracy: 0.7290\n",
      "\n",
      "Epoch 00004: saving model to servier/models\\FF.h5\n",
      "Epoch 5/100\n",
      "125/125 - 0s - loss: 0.4144 - accuracy: 0.8065 - val_loss: 0.6286 - val_accuracy: 0.6730\n",
      "\n",
      "Epoch 00005: saving model to servier/models\\FF.h5\n",
      "Epoch 6/100\n",
      "125/125 - 0s - loss: 0.3487 - accuracy: 0.8365 - val_loss: 0.6223 - val_accuracy: 0.7240\n",
      "\n",
      "Epoch 00006: saving model to servier/models\\FF.h5\n",
      "Epoch 7/100\n",
      "125/125 - 0s - loss: 0.2947 - accuracy: 0.8597 - val_loss: 0.6897 - val_accuracy: 0.7080\n",
      "\n",
      "Epoch 00007: saving model to servier/models\\FF.h5\n",
      "Epoch 8/100\n",
      "125/125 - 0s - loss: 0.2492 - accuracy: 0.8800 - val_loss: 0.7815 - val_accuracy: 0.7400\n",
      "\n",
      "Epoch 00008: saving model to servier/models\\FF.h5\n",
      "Epoch 9/100\n",
      "125/125 - 0s - loss: 0.2031 - accuracy: 0.9017 - val_loss: 0.9418 - val_accuracy: 0.7120\n",
      "\n",
      "Epoch 00009: saving model to servier/models\\FF.h5\n",
      "Epoch 10/100\n",
      "125/125 - 0s - loss: 0.1721 - accuracy: 0.9170 - val_loss: 0.9944 - val_accuracy: 0.7590\n",
      "\n",
      "Epoch 00010: saving model to servier/models\\FF.h5\n",
      "Epoch 11/100\n",
      "125/125 - 0s - loss: 0.1563 - accuracy: 0.9277 - val_loss: 1.0551 - val_accuracy: 0.7330\n",
      "\n",
      "Epoch 00011: saving model to servier/models\\FF.h5\n",
      "Epoch 12/100\n",
      "125/125 - 0s - loss: 0.1300 - accuracy: 0.9390 - val_loss: 1.1830 - val_accuracy: 0.7280\n",
      "\n",
      "Epoch 00012: saving model to servier/models\\FF.h5\n",
      "Epoch 13/100\n",
      "125/125 - 0s - loss: 0.1083 - accuracy: 0.9475 - val_loss: 1.3043 - val_accuracy: 0.7470\n",
      "\n",
      "Epoch 00013: saving model to servier/models\\FF.h5\n",
      "Epoch 14/100\n",
      "125/125 - 0s - loss: 0.0869 - accuracy: 0.9595 - val_loss: 1.4061 - val_accuracy: 0.7680\n",
      "\n",
      "Epoch 00014: saving model to servier/models\\FF.h5\n",
      "Epoch 15/100\n",
      "125/125 - 0s - loss: 0.0723 - accuracy: 0.9695 - val_loss: 1.4138 - val_accuracy: 0.7330\n",
      "\n",
      "Epoch 00015: saving model to servier/models\\FF.h5\n",
      "Epoch 16/100\n",
      "125/125 - 0s - loss: 0.0626 - accuracy: 0.9715 - val_loss: 1.5744 - val_accuracy: 0.7530\n",
      "\n",
      "Epoch 00016: saving model to servier/models\\FF.h5\n",
      "Epoch 17/100\n",
      "125/125 - 0s - loss: 0.0548 - accuracy: 0.9777 - val_loss: 1.7007 - val_accuracy: 0.7300\n",
      "\n",
      "Epoch 00017: saving model to servier/models\\FF.h5\n",
      "Epoch 18/100\n",
      "125/125 - 0s - loss: 0.0545 - accuracy: 0.9765 - val_loss: 1.6230 - val_accuracy: 0.7610\n",
      "\n",
      "Epoch 00018: saving model to servier/models\\FF.h5\n",
      "Epoch 19/100\n",
      "125/125 - 0s - loss: 0.0432 - accuracy: 0.9810 - val_loss: 1.7561 - val_accuracy: 0.7460\n",
      "\n",
      "Epoch 00019: saving model to servier/models\\FF.h5\n",
      "Epoch 20/100\n",
      "125/125 - 1s - loss: 0.0344 - accuracy: 0.9860 - val_loss: 1.8556 - val_accuracy: 0.7530\n",
      "\n",
      "Epoch 00020: saving model to servier/models\\FF.h5\n",
      "Epoch 21/100\n",
      "125/125 - 0s - loss: 0.0327 - accuracy: 0.9857 - val_loss: 1.9401 - val_accuracy: 0.7620\n",
      "\n",
      "Epoch 00021: saving model to servier/models\\FF.h5\n",
      "Epoch 22/100\n",
      "125/125 - 0s - loss: 0.0309 - accuracy: 0.9887 - val_loss: 1.9645 - val_accuracy: 0.7600\n",
      "\n",
      "Epoch 00022: saving model to servier/models\\FF.h5\n",
      "Epoch 23/100\n",
      "125/125 - 0s - loss: 0.0195 - accuracy: 0.9927 - val_loss: 2.1336 - val_accuracy: 0.7330\n",
      "\n",
      "Epoch 00023: saving model to servier/models\\FF.h5\n",
      "Epoch 24/100\n",
      "125/125 - 0s - loss: 0.0228 - accuracy: 0.9897 - val_loss: 2.1107 - val_accuracy: 0.7100\n",
      "Restoring model weights from the end of the best epoch.\n",
      "\n",
      "Epoch 00024: saving model to servier/models\\FF.h5\n",
      "Epoch 00024: early stopping\n"
     ]
    }
   ],
   "source": [
    "X_test, y_test, model, history = main.Train(model_type = 'FF')"
   ]
  },
  {
   "cell_type": "code",
   "execution_count": 10,
   "metadata": {},
   "outputs": [],
   "source": [
    "y_pred = main.Predict(X_test, model_type = 'FF')"
   ]
  },
  {
   "cell_type": "code",
   "execution_count": 11,
   "metadata": {},
   "outputs": [],
   "source": [
    "data_test = 'servier/data/dataset_single_test.csv'\n",
    "y_pred_2 = main.Predict(data_test, model_type = 'FF')"
   ]
  },
  {
   "cell_type": "code",
   "execution_count": 12,
   "metadata": {},
   "outputs": [
    {
     "data": {
      "text/html": [
       "<div>\n",
       "<style scoped>\n",
       "    .dataframe tbody tr th:only-of-type {\n",
       "        vertical-align: middle;\n",
       "    }\n",
       "\n",
       "    .dataframe tbody tr th {\n",
       "        vertical-align: top;\n",
       "    }\n",
       "\n",
       "    .dataframe thead th {\n",
       "        text-align: right;\n",
       "    }\n",
       "</style>\n",
       "<table border=\"1\" class=\"dataframe\">\n",
       "  <thead>\n",
       "    <tr style=\"text-align: right;\">\n",
       "      <th></th>\n",
       "      <th>accuracy</th>\n",
       "      <th>f1-score</th>\n",
       "      <th>Confusion Matrix</th>\n",
       "    </tr>\n",
       "  </thead>\n",
       "  <tbody>\n",
       "    <tr>\n",
       "      <th>0</th>\n",
       "      <td>0.729</td>\n",
       "      <td>0.589463</td>\n",
       "      <td>[[73, 103], [168, 656]]</td>\n",
       "    </tr>\n",
       "  </tbody>\n",
       "</table>\n",
       "</div>"
      ],
      "text/plain": [
       "   accuracy  f1-score         Confusion Matrix\n",
       "0     0.729  0.589463  [[73, 103], [168, 656]]"
      ]
     },
     "execution_count": 12,
     "metadata": {},
     "output_type": "execute_result"
    }
   ],
   "source": [
    "model_eval_ff = main.Evaluate(y_test, y_pred)\n",
    "model_eval_ff"
   ]
  },
  {
   "cell_type": "code",
   "execution_count": 13,
   "metadata": {},
   "outputs": [
    {
     "name": "stdout",
     "output_type": "stream",
     "text": [
      "Test Data Accuracy: 0.7290\n"
     ]
    },
    {
     "data": {
      "image/png": "[encoded data removed]",
      "text/plain": [
       "<Figure size 720x504 with 2 Axes>"
      ]
     },
     "metadata": {
      "needs_background": "light"
     },
     "output_type": "display_data"
    }
   ],
   "source": [
    "# Making the Confusion Matrix\n",
    "cm = confusion_matrix(y_test, y_pred) # rows = truth, cols = prediction\n",
    "df_cm = pd.DataFrame(cm, index = (0, 1), columns = (0, 1))\n",
    "plt.figure(figsize = (10,7))\n",
    "sns.set(font_scale=1.4)\n",
    "sns.heatmap(df_cm, annot=True, fmt='g')\n",
    "plt.title(\"Confusion matrix\")\n",
    "plt.ylabel('True class')\n",
    "plt.xlabel('Predicted class')\n",
    "print(\"Test Data Accuracy: %0.4f\" % accuracy_score(y_test, y_pred))"
   ]
  },
  {
   "cell_type": "markdown",
   "metadata": {},
   "source": [
    "### III.1 Model 2: \n",
    "This model takes the smile string character as input and predict the P1 property.In this work, a Deep Learning model that automatically learns features from *smiles* to predict chemical properties, without the need for additional explicit feature engineering."
   ]
  },
  {
   "cell_type": "markdown",
   "metadata": {},
   "source": [
    "### CNN model"
   ]
  },
  {
   "cell_type": "code",
   "execution_count": 14,
   "metadata": {},
   "outputs": [
    {
     "name": "stdout",
     "output_type": "stream",
     "text": [
      " Train a one dimensional classification model\n",
      "Model: \"sequential_1\"\n",
      "_________________________________________________________________\n",
      "Layer (type)                 Output Shape              Param #   \n",
      "=================================================================\n",
      "embedding (Embedding)        (None, 74, 50)            1500      \n",
      "_________________________________________________________________\n",
      "conv1d (Conv1D)              (None, 65, 192)           96192     \n",
      "_________________________________________________________________\n",
      "batch_normalization (BatchNo (None, 65, 192)           768       \n",
      "_________________________________________________________________\n",
      "conv1d_1 (Conv1D)            (None, 63, 192)           110784    \n",
      "_________________________________________________________________\n",
      "flatten (Flatten)            (None, 12096)             0         \n",
      "_________________________________________________________________\n",
      "dense_5 (Dense)              (None, 128)               1548416   \n",
      "_________________________________________________________________\n",
      "dropout_1 (Dropout)          (None, 128)               0         \n",
      "_________________________________________________________________\n",
      "dense_6 (Dense)              (None, 1)                 129       \n",
      "=================================================================\n",
      "Total params: 1,757,789\n",
      "Trainable params: 1,757,405\n",
      "Non-trainable params: 384\n",
      "_________________________________________________________________\n",
      "Epoch 1/100\n"
     ]
    },
    {
     "name": "stderr",
     "output_type": "stream",
     "text": [
      "c:\\Users\\Halrachid\\Anaconda3\\envs\\servier\\lib\\site-packages\\keras\\optimizer_v2\\optimizer_v2.py:356: UserWarning: The `lr` argument is deprecated, use `learning_rate` instead.\n",
      "  \"The `lr` argument is deprecated, use `learning_rate` instead.\")\n"
     ]
    },
    {
     "name": "stdout",
     "output_type": "stream",
     "text": [
      "125/125 - 8s - loss: 0.6926 - accuracy: 0.5869 - val_loss: 0.7021 - val_accuracy: 0.2080\n",
      "\n",
      "Epoch 00001: saving model to servier/models\\cnn.h5\n",
      "Epoch 2/100\n",
      "125/125 - 6s - loss: 0.6016 - accuracy: 0.6532 - val_loss: 0.6641 - val_accuracy: 0.7360\n",
      "\n",
      "Epoch 00002: saving model to servier/models\\cnn.h5\n",
      "Epoch 3/100\n",
      "125/125 - 6s - loss: 0.5669 - accuracy: 0.6874 - val_loss: 0.6389 - val_accuracy: 0.7400\n",
      "\n",
      "Epoch 00003: saving model to servier/models\\cnn.h5\n",
      "Epoch 4/100\n",
      "125/125 - 7s - loss: 0.5120 - accuracy: 0.7189 - val_loss: 0.5767 - val_accuracy: 0.7210\n",
      "\n",
      "Epoch 00004: saving model to servier/models\\cnn.h5\n",
      "Epoch 5/100\n",
      "125/125 - 7s - loss: 0.4490 - accuracy: 0.7754 - val_loss: 0.5111 - val_accuracy: 0.7500\n",
      "\n",
      "Epoch 00005: saving model to servier/models\\cnn.h5\n",
      "Epoch 6/100\n",
      "125/125 - 6s - loss: 0.3627 - accuracy: 0.8237 - val_loss: 0.6053 - val_accuracy: 0.6880\n",
      "\n",
      "Epoch 00006: saving model to servier/models\\cnn.h5\n",
      "Epoch 7/100\n",
      "125/125 - 7s - loss: 0.2723 - accuracy: 0.8745 - val_loss: 0.8178 - val_accuracy: 0.6630\n",
      "\n",
      "Epoch 00007: saving model to servier/models\\cnn.h5\n",
      "Epoch 8/100\n",
      "125/125 - 8s - loss: 0.2106 - accuracy: 0.9092 - val_loss: 0.8054 - val_accuracy: 0.7340\n",
      "\n",
      "Epoch 00008: saving model to servier/models\\cnn.h5\n",
      "Epoch 9/100\n",
      "125/125 - 7s - loss: 0.1548 - accuracy: 0.9430 - val_loss: 0.9624 - val_accuracy: 0.7380\n",
      "\n",
      "Epoch 00009: saving model to servier/models\\cnn.h5\n",
      "Epoch 10/100\n",
      "125/125 - 7s - loss: 0.1383 - accuracy: 0.9450 - val_loss: 0.9827 - val_accuracy: 0.6880\n",
      "\n",
      "Epoch 00010: saving model to servier/models\\cnn.h5\n",
      "Epoch 11/100\n",
      "125/125 - 8s - loss: 0.1033 - accuracy: 0.9595 - val_loss: 1.1192 - val_accuracy: 0.7170\n",
      "\n",
      "Epoch 00011: saving model to servier/models\\cnn.h5\n",
      "Epoch 12/100\n",
      "125/125 - 7s - loss: 0.0718 - accuracy: 0.9740 - val_loss: 1.5350 - val_accuracy: 0.6280\n",
      "\n",
      "Epoch 00012: saving model to servier/models\\cnn.h5\n",
      "Epoch 13/100\n",
      "125/125 - 7s - loss: 0.0840 - accuracy: 0.9652 - val_loss: 1.4627 - val_accuracy: 0.7450\n",
      "\n",
      "Epoch 00013: saving model to servier/models\\cnn.h5\n",
      "Epoch 14/100\n",
      "125/125 - 7s - loss: 0.0852 - accuracy: 0.9697 - val_loss: 1.5021 - val_accuracy: 0.7090\n",
      "\n",
      "Epoch 00014: saving model to servier/models\\cnn.h5\n",
      "Epoch 15/100\n",
      "125/125 - 6s - loss: 0.0581 - accuracy: 0.9787 - val_loss: 1.4047 - val_accuracy: 0.7680\n",
      "\n",
      "Epoch 00015: saving model to servier/models\\cnn.h5\n",
      "Epoch 16/100\n",
      "125/125 - 7s - loss: 0.0587 - accuracy: 0.9817 - val_loss: 1.2268 - val_accuracy: 0.7170\n",
      "\n",
      "Epoch 00016: saving model to servier/models\\cnn.h5\n",
      "Epoch 17/100\n",
      "125/125 - 8s - loss: 0.0407 - accuracy: 0.9882 - val_loss: 1.5252 - val_accuracy: 0.7400\n",
      "\n",
      "Epoch 00017: saving model to servier/models\\cnn.h5\n",
      "Epoch 18/100\n",
      "125/125 - 6s - loss: 0.0366 - accuracy: 0.9862 - val_loss: 1.6030 - val_accuracy: 0.7190\n",
      "\n",
      "Epoch 00018: saving model to servier/models\\cnn.h5\n",
      "Epoch 19/100\n",
      "125/125 - 7s - loss: 0.0446 - accuracy: 0.9880 - val_loss: 1.8898 - val_accuracy: 0.7210\n",
      "\n",
      "Epoch 00019: saving model to servier/models\\cnn.h5\n",
      "Epoch 20/100\n",
      "125/125 - 7s - loss: 0.0494 - accuracy: 0.9860 - val_loss: 1.5317 - val_accuracy: 0.7420\n",
      "\n",
      "Epoch 00020: saving model to servier/models\\cnn.h5\n",
      "Epoch 21/100\n",
      "125/125 - 7s - loss: 0.0354 - accuracy: 0.9872 - val_loss: 1.6266 - val_accuracy: 0.7250\n",
      "\n",
      "Epoch 00021: saving model to servier/models\\cnn.h5\n",
      "Epoch 22/100\n",
      "125/125 - 7s - loss: 0.0325 - accuracy: 0.9885 - val_loss: 1.7531 - val_accuracy: 0.7390\n",
      "\n",
      "Epoch 00022: saving model to servier/models\\cnn.h5\n",
      "Epoch 23/100\n",
      "125/125 - 6s - loss: 0.0459 - accuracy: 0.9877 - val_loss: 1.6499 - val_accuracy: 0.7000\n",
      "\n",
      "Epoch 00023: saving model to servier/models\\cnn.h5\n",
      "Epoch 24/100\n",
      "125/125 - 7s - loss: 0.0755 - accuracy: 0.9762 - val_loss: 1.5350 - val_accuracy: 0.7580\n",
      "\n",
      "Epoch 00024: saving model to servier/models\\cnn.h5\n",
      "Epoch 25/100\n",
      "125/125 - 6s - loss: 0.0203 - accuracy: 0.9935 - val_loss: 2.0072 - val_accuracy: 0.7270\n",
      "Restoring model weights from the end of the best epoch.\n",
      "\n",
      "Epoch 00025: saving model to servier/models\\cnn.h5\n",
      "Epoch 00025: early stopping\n"
     ]
    }
   ],
   "source": [
    "X_test, y_test, model, history = main.Train(model_type = 'cnn')"
   ]
  },
  {
   "cell_type": "code",
   "execution_count": 15,
   "metadata": {},
   "outputs": [],
   "source": [
    "y_pred = main.Predict(X_test, model_type = 'cnn')"
   ]
  },
  {
   "cell_type": "code",
   "execution_count": 16,
   "metadata": {},
   "outputs": [
    {
     "data": {
      "text/html": [
       "<div>\n",
       "<style scoped>\n",
       "    .dataframe tbody tr th:only-of-type {\n",
       "        vertical-align: middle;\n",
       "    }\n",
       "\n",
       "    .dataframe tbody tr th {\n",
       "        vertical-align: top;\n",
       "    }\n",
       "\n",
       "    .dataframe thead th {\n",
       "        text-align: right;\n",
       "    }\n",
       "</style>\n",
       "<table border=\"1\" class=\"dataframe\">\n",
       "  <thead>\n",
       "    <tr style=\"text-align: right;\">\n",
       "      <th></th>\n",
       "      <th>accuracy</th>\n",
       "      <th>f1-score</th>\n",
       "      <th>Confusion Matrix</th>\n",
       "    </tr>\n",
       "  </thead>\n",
       "  <tbody>\n",
       "    <tr>\n",
       "      <th>0</th>\n",
       "      <td>0.75</td>\n",
       "      <td>0.559111</td>\n",
       "      <td>[[46, 132], [118, 704]]</td>\n",
       "    </tr>\n",
       "  </tbody>\n",
       "</table>\n",
       "</div>"
      ],
      "text/plain": [
       "   accuracy  f1-score         Confusion Matrix\n",
       "0      0.75  0.559111  [[46, 132], [118, 704]]"
      ]
     },
     "execution_count": 16,
     "metadata": {},
     "output_type": "execute_result"
    }
   ],
   "source": [
    "model_eval_cnn = main.Evaluate(y_test, y_pred)\n",
    "model_eval_cnn"
   ]
  },
  {
   "cell_type": "code",
   "execution_count": 17,
   "metadata": {},
   "outputs": [
    {
     "name": "stdout",
     "output_type": "stream",
     "text": [
      "Test Data Accuracy: 0.7500\n"
     ]
    },
    {
     "data": {
      "image/png": "[encoded data removed]",
      "text/plain": [
       "<Figure size 720x504 with 2 Axes>"
      ]
     },
     "metadata": {},
     "output_type": "display_data"
    }
   ],
   "source": [
    "# Making the Confusion Matrix\n",
    "cm = confusion_matrix(y_test, y_pred) # rows = truth, cols = prediction\n",
    "df_cm = pd.DataFrame(cm, index = (0, 1), columns = (0, 1))\n",
    "plt.figure(figsize = (10,7))\n",
    "sns.set(font_scale=1.4)\n",
    "sns.heatmap(df_cm, annot=True, fmt='g')\n",
    "plt.title(\"Confusion matrix\")\n",
    "plt.ylabel('True class')\n",
    "plt.xlabel('Predicted class')\n",
    "print(\"Test Data Accuracy: %0.4f\" % accuracy_score(y_test, y_pred))"
   ]
  },
  {
   "cell_type": "markdown",
   "metadata": {},
   "source": [
    "### LSTM model "
   ]
  },
  {
   "cell_type": "code",
   "execution_count": 18,
   "metadata": {},
   "outputs": [
    {
     "name": "stdout",
     "output_type": "stream",
     "text": [
      " Train a one dimensional classification model\n",
      "Model: \"sequential_2\"\n",
      "_________________________________________________________________\n",
      "Layer (type)                 Output Shape              Param #   \n",
      "=================================================================\n",
      "embedding_1 (Embedding)      (None, 74, 50)            1500      \n",
      "_________________________________________________________________\n",
      "bidirectional (Bidirectional (None, 74, 256)           183296    \n",
      "_________________________________________________________________\n",
      "bidirectional_1 (Bidirection (None, 256)               394240    \n",
      "_________________________________________________________________\n",
      "dense_7 (Dense)              (None, 128)               32896     \n",
      "_________________________________________________________________\n",
      "dropout_2 (Dropout)          (None, 128)               0         \n",
      "_________________________________________________________________\n",
      "dense_8 (Dense)              (None, 1)                 129       \n",
      "=================================================================\n",
      "Total params: 612,061\n",
      "Trainable params: 612,061\n",
      "Non-trainable params: 0\n",
      "_________________________________________________________________\n",
      "Epoch 1/100\n"
     ]
    },
    {
     "name": "stderr",
     "output_type": "stream",
     "text": [
      "c:\\Users\\Halrachid\\Anaconda3\\envs\\servier\\lib\\site-packages\\keras\\optimizer_v2\\optimizer_v2.py:356: UserWarning: The `lr` argument is deprecated, use `learning_rate` instead.\n",
      "  \"The `lr` argument is deprecated, use `learning_rate` instead.\")\n"
     ]
    },
    {
     "name": "stdout",
     "output_type": "stream",
     "text": [
      "125/125 - 58s - loss: 0.6847 - accuracy: 0.5984 - val_loss: 0.7970 - val_accuracy: 0.4600\n",
      "\n",
      "Epoch 00001: saving model to servier/models\\lstm.h5\n",
      "Epoch 2/100\n",
      "125/125 - 38s - loss: 0.6808 - accuracy: 0.4916 - val_loss: 0.6908 - val_accuracy: 0.5520\n",
      "\n",
      "Epoch 00002: saving model to servier/models\\lstm.h5\n",
      "Epoch 3/100\n",
      "125/125 - 37s - loss: 0.6484 - accuracy: 0.6227 - val_loss: 1.1192 - val_accuracy: 0.2550\n",
      "\n",
      "Epoch 00003: saving model to servier/models\\lstm.h5\n",
      "Epoch 4/100\n",
      "125/125 - 41s - loss: 0.6323 - accuracy: 0.6337 - val_loss: 0.7646 - val_accuracy: 0.4950\n",
      "\n",
      "Epoch 00004: saving model to servier/models\\lstm.h5\n",
      "Epoch 5/100\n",
      "125/125 - 33s - loss: 0.6331 - accuracy: 0.6499 - val_loss: 0.7884 - val_accuracy: 0.4870\n",
      "\n",
      "Epoch 00005: saving model to servier/models\\lstm.h5\n",
      "Epoch 6/100\n",
      "125/125 - 33s - loss: 0.6261 - accuracy: 0.6549 - val_loss: 0.7131 - val_accuracy: 0.5550\n",
      "\n",
      "Epoch 00006: saving model to servier/models\\lstm.h5\n",
      "Epoch 7/100\n",
      "125/125 - 34s - loss: 0.6237 - accuracy: 0.6614 - val_loss: 0.7675 - val_accuracy: 0.4520\n",
      "\n",
      "Epoch 00007: saving model to servier/models\\lstm.h5\n",
      "Epoch 8/100\n",
      "125/125 - 40s - loss: 0.6110 - accuracy: 0.6394 - val_loss: 0.6333 - val_accuracy: 0.6380\n",
      "\n",
      "Epoch 00008: saving model to servier/models\\lstm.h5\n",
      "Epoch 9/100\n",
      "125/125 - 38s - loss: 0.6062 - accuracy: 0.6432 - val_loss: 0.6197 - val_accuracy: 0.6430\n",
      "\n",
      "Epoch 00009: saving model to servier/models\\lstm.h5\n",
      "Epoch 10/100\n",
      "125/125 - 35s - loss: 0.6001 - accuracy: 0.6804 - val_loss: 0.6220 - val_accuracy: 0.6790\n",
      "\n",
      "Epoch 00010: saving model to servier/models\\lstm.h5\n",
      "Epoch 11/100\n",
      "125/125 - 34s - loss: 0.6051 - accuracy: 0.6697 - val_loss: 0.5511 - val_accuracy: 0.7380\n",
      "\n",
      "Epoch 00011: saving model to servier/models\\lstm.h5\n",
      "Epoch 12/100\n",
      "125/125 - 33s - loss: 0.5957 - accuracy: 0.6772 - val_loss: 0.6199 - val_accuracy: 0.6790\n",
      "\n",
      "Epoch 00012: saving model to servier/models\\lstm.h5\n",
      "Epoch 13/100\n",
      "125/125 - 32s - loss: 0.6119 - accuracy: 0.6592 - val_loss: 0.5977 - val_accuracy: 0.6930\n",
      "\n",
      "Epoch 00013: saving model to servier/models\\lstm.h5\n",
      "Epoch 14/100\n",
      "125/125 - 31s - loss: 0.6005 - accuracy: 0.6754 - val_loss: 0.5498 - val_accuracy: 0.7010\n",
      "\n",
      "Epoch 00014: saving model to servier/models\\lstm.h5\n",
      "Epoch 15/100\n",
      "125/125 - 33s - loss: 0.5928 - accuracy: 0.6799 - val_loss: 0.5787 - val_accuracy: 0.7250\n",
      "\n",
      "Epoch 00015: saving model to servier/models\\lstm.h5\n",
      "Epoch 16/100\n",
      "125/125 - 31s - loss: 0.5975 - accuracy: 0.6867 - val_loss: 0.6262 - val_accuracy: 0.6560\n",
      "\n",
      "Epoch 00016: saving model to servier/models\\lstm.h5\n",
      "Epoch 17/100\n",
      "125/125 - 36s - loss: 0.5972 - accuracy: 0.6682 - val_loss: 0.6601 - val_accuracy: 0.6360\n",
      "\n",
      "Epoch 00017: saving model to servier/models\\lstm.h5\n",
      "Epoch 18/100\n",
      "125/125 - 38s - loss: 0.5944 - accuracy: 0.6827 - val_loss: 0.5896 - val_accuracy: 0.7150\n",
      "\n",
      "Epoch 00018: saving model to servier/models\\lstm.h5\n",
      "Epoch 19/100\n",
      "125/125 - 37s - loss: 0.5912 - accuracy: 0.6709 - val_loss: 0.6367 - val_accuracy: 0.6490\n",
      "\n",
      "Epoch 00019: saving model to servier/models\\lstm.h5\n",
      "Epoch 20/100\n",
      "125/125 - 37s - loss: 0.5919 - accuracy: 0.6757 - val_loss: 0.6424 - val_accuracy: 0.6740\n",
      "\n",
      "Epoch 00020: saving model to servier/models\\lstm.h5\n",
      "Epoch 21/100\n",
      "125/125 - 34s - loss: 0.5952 - accuracy: 0.6782 - val_loss: 0.5590 - val_accuracy: 0.7230\n",
      "\n",
      "Epoch 00021: saving model to servier/models\\lstm.h5\n",
      "Epoch 22/100\n",
      "125/125 - 32s - loss: 0.5917 - accuracy: 0.6834 - val_loss: 0.5737 - val_accuracy: 0.6850\n",
      "\n",
      "Epoch 00022: saving model to servier/models\\lstm.h5\n",
      "Epoch 23/100\n",
      "125/125 - 37s - loss: 0.5925 - accuracy: 0.6782 - val_loss: 0.5346 - val_accuracy: 0.7190\n",
      "\n",
      "Epoch 00023: saving model to servier/models\\lstm.h5\n",
      "Epoch 24/100\n",
      "125/125 - 36s - loss: 0.5881 - accuracy: 0.6637 - val_loss: 0.6209 - val_accuracy: 0.6200\n",
      "\n",
      "Epoch 00024: saving model to servier/models\\lstm.h5\n",
      "Epoch 25/100\n",
      "125/125 - 38s - loss: 0.5942 - accuracy: 0.6587 - val_loss: 0.5581 - val_accuracy: 0.7000\n",
      "\n",
      "Epoch 00025: saving model to servier/models\\lstm.h5\n",
      "Epoch 26/100\n",
      "125/125 - 37s - loss: 0.5893 - accuracy: 0.6747 - val_loss: 0.6225 - val_accuracy: 0.6590\n",
      "\n",
      "Epoch 00026: saving model to servier/models\\lstm.h5\n",
      "Epoch 27/100\n",
      "125/125 - 34s - loss: 0.5862 - accuracy: 0.6777 - val_loss: 0.5699 - val_accuracy: 0.7010\n",
      "\n",
      "Epoch 00027: saving model to servier/models\\lstm.h5\n",
      "Epoch 28/100\n",
      "125/125 - 30s - loss: 0.5892 - accuracy: 0.6859 - val_loss: 0.6137 - val_accuracy: 0.6690\n",
      "\n",
      "Epoch 00028: saving model to servier/models\\lstm.h5\n",
      "Epoch 29/100\n",
      "125/125 - 34s - loss: 0.6098 - accuracy: 0.6767 - val_loss: 0.6032 - val_accuracy: 0.6640\n",
      "\n",
      "Epoch 00029: saving model to servier/models\\lstm.h5\n",
      "Epoch 30/100\n",
      "125/125 - 36s - loss: 0.6092 - accuracy: 0.6612 - val_loss: 0.6735 - val_accuracy: 0.6280\n",
      "\n",
      "Epoch 00030: saving model to servier/models\\lstm.h5\n",
      "Epoch 31/100\n",
      "125/125 - 40s - loss: 0.6103 - accuracy: 0.6824 - val_loss: 0.5420 - val_accuracy: 0.7110\n",
      "\n",
      "Epoch 00031: saving model to servier/models\\lstm.h5\n",
      "Epoch 32/100\n",
      "125/125 - 37s - loss: 0.5954 - accuracy: 0.6777 - val_loss: 0.6894 - val_accuracy: 0.5460\n",
      "\n",
      "Epoch 00032: saving model to servier/models\\lstm.h5\n",
      "Epoch 33/100\n",
      "125/125 - 37s - loss: 0.6034 - accuracy: 0.6474 - val_loss: 0.5932 - val_accuracy: 0.6750\n",
      "\n",
      "Epoch 00033: saving model to servier/models\\lstm.h5\n",
      "Epoch 34/100\n",
      "125/125 - 35s - loss: 0.5875 - accuracy: 0.6872 - val_loss: 0.6510 - val_accuracy: 0.6170\n",
      "\n",
      "Epoch 00034: saving model to servier/models\\lstm.h5\n",
      "Epoch 35/100\n",
      "125/125 - 36s - loss: 0.5897 - accuracy: 0.6782 - val_loss: 0.6025 - val_accuracy: 0.6870\n",
      "\n",
      "Epoch 00035: saving model to servier/models\\lstm.h5\n",
      "Epoch 36/100\n",
      "125/125 - 34s - loss: 0.5829 - accuracy: 0.6639 - val_loss: 0.5720 - val_accuracy: 0.6950\n",
      "\n",
      "Epoch 00036: saving model to servier/models\\lstm.h5\n",
      "Epoch 37/100\n",
      "125/125 - 36s - loss: 0.5837 - accuracy: 0.6642 - val_loss: 0.6518 - val_accuracy: 0.6260\n",
      "\n",
      "Epoch 00037: saving model to servier/models\\lstm.h5\n",
      "Epoch 38/100\n",
      "125/125 - 33s - loss: 0.5828 - accuracy: 0.6577 - val_loss: 0.6079 - val_accuracy: 0.6560\n",
      "\n",
      "Epoch 00038: saving model to servier/models\\lstm.h5\n",
      "Epoch 39/100\n",
      "125/125 - 36s - loss: 0.5755 - accuracy: 0.6797 - val_loss: 0.5839 - val_accuracy: 0.6600\n",
      "\n",
      "Epoch 00039: saving model to servier/models\\lstm.h5\n",
      "Epoch 40/100\n",
      "125/125 - 37s - loss: 0.5877 - accuracy: 0.6284 - val_loss: 0.5858 - val_accuracy: 0.6780\n",
      "\n",
      "Epoch 00040: saving model to servier/models\\lstm.h5\n",
      "Epoch 41/100\n",
      "125/125 - 35s - loss: 0.5788 - accuracy: 0.6844 - val_loss: 0.6591 - val_accuracy: 0.5990\n",
      "\n",
      "Epoch 00041: saving model to servier/models\\lstm.h5\n",
      "Epoch 42/100\n",
      "125/125 - 32s - loss: 0.5832 - accuracy: 0.6597 - val_loss: 0.5798 - val_accuracy: 0.6670\n",
      "\n",
      "Epoch 00042: saving model to servier/models\\lstm.h5\n",
      "Epoch 43/100\n",
      "125/125 - 32s - loss: 0.5749 - accuracy: 0.6577 - val_loss: 0.5790 - val_accuracy: 0.6730\n",
      "Restoring model weights from the end of the best epoch.\n",
      "\n",
      "Epoch 00043: saving model to servier/models\\lstm.h5\n",
      "Epoch 00043: early stopping\n"
     ]
    }
   ],
   "source": [
    "X_test, y_test, model, history = main.Train(model_type = 'lstm')"
   ]
  },
  {
   "cell_type": "code",
   "execution_count": 21,
   "metadata": {},
   "outputs": [],
   "source": [
    "y_pred = main.Predict(X_test, model_type = 'lstm')"
   ]
  },
  {
   "cell_type": "code",
   "execution_count": 22,
   "metadata": {},
   "outputs": [
    {
     "data": {
      "text/html": [
       "<div>\n",
       "<style scoped>\n",
       "    .dataframe tbody tr th:only-of-type {\n",
       "        vertical-align: middle;\n",
       "    }\n",
       "\n",
       "    .dataframe tbody tr th {\n",
       "        vertical-align: top;\n",
       "    }\n",
       "\n",
       "    .dataframe thead th {\n",
       "        text-align: right;\n",
       "    }\n",
       "</style>\n",
       "<table border=\"1\" class=\"dataframe\">\n",
       "  <thead>\n",
       "    <tr style=\"text-align: right;\">\n",
       "      <th></th>\n",
       "      <th>accuracy</th>\n",
       "      <th>f1-score</th>\n",
       "      <th>Confusion Matrix</th>\n",
       "    </tr>\n",
       "  </thead>\n",
       "  <tbody>\n",
       "    <tr>\n",
       "      <th>0</th>\n",
       "      <td>0.719</td>\n",
       "      <td>0.610949</td>\n",
       "      <td>[[96, 82], [199, 623]]</td>\n",
       "    </tr>\n",
       "  </tbody>\n",
       "</table>\n",
       "</div>"
      ],
      "text/plain": [
       "   accuracy  f1-score        Confusion Matrix\n",
       "0     0.719  0.610949  [[96, 82], [199, 623]]"
      ]
     },
     "execution_count": 22,
     "metadata": {},
     "output_type": "execute_result"
    }
   ],
   "source": [
    "model_eval_lstm = main.Evaluate(y_test, y_pred)\n",
    "model_eval_lstm"
   ]
  },
  {
   "cell_type": "code",
   "execution_count": 23,
   "metadata": {},
   "outputs": [
    {
     "name": "stdout",
     "output_type": "stream",
     "text": [
      "Test Data Accuracy: 0.7190\n"
     ]
    },
    {
     "data": {
      "image/png": "[encoded data removed]",
      "text/plain": [
       "<Figure size 720x504 with 2 Axes>"
      ]
     },
     "metadata": {},
     "output_type": "display_data"
    }
   ],
   "source": [
    "# Making the Confusion Matrix\n",
    "cm = confusion_matrix(y_test, y_pred) # rows = truth, cols = prediction\n",
    "df_cm = pd.DataFrame(cm, index = (0, 1), columns = (0, 1))\n",
    "plt.figure(figsize = (10,7))\n",
    "sns.set(font_scale=1.4)\n",
    "sns.heatmap(df_cm, annot=True, fmt='g')\n",
    "plt.title(\"Confusion matrix\")\n",
    "plt.ylabel('True class')\n",
    "plt.xlabel('Predicted class')\n",
    "print(\"Test Data Accuracy: %0.4f\" % accuracy_score(y_test, y_pred))"
   ]
  },
  {
   "cell_type": "markdown",
   "metadata": {},
   "source": [
    "### GRU Model "
   ]
  },
  {
   "cell_type": "code",
   "execution_count": 24,
   "metadata": {},
   "outputs": [
    {
     "name": "stdout",
     "output_type": "stream",
     "text": [
      " Train a one dimensional classification model\n",
      "Model: \"sequential_3\"\n",
      "_________________________________________________________________\n",
      "Layer (type)                 Output Shape              Param #   \n",
      "=================================================================\n",
      "embedding_2 (Embedding)      (None, 74, 50)            1500      \n",
      "_________________________________________________________________\n",
      "bidirectional_2 (Bidirection (None, 74, 256)           138240    \n",
      "_________________________________________________________________\n",
      "bidirectional_3 (Bidirection (None, 256)               296448    \n",
      "_________________________________________________________________\n",
      "dense_9 (Dense)              (None, 128)               32896     \n",
      "_________________________________________________________________\n",
      "dropout_3 (Dropout)          (None, 128)               0         \n",
      "_________________________________________________________________\n",
      "dense_10 (Dense)             (None, 1)                 129       \n",
      "=================================================================\n",
      "Total params: 469,213\n",
      "Trainable params: 469,213\n",
      "Non-trainable params: 0\n",
      "_________________________________________________________________\n",
      "Epoch 1/100\n"
     ]
    },
    {
     "name": "stderr",
     "output_type": "stream",
     "text": [
      "c:\\Users\\Halrachid\\Anaconda3\\envs\\servier\\lib\\site-packages\\keras\\optimizer_v2\\optimizer_v2.py:356: UserWarning: The `lr` argument is deprecated, use `learning_rate` instead.\n",
      "  \"The `lr` argument is deprecated, use `learning_rate` instead.\")\n"
     ]
    },
    {
     "name": "stdout",
     "output_type": "stream",
     "text": [
      "125/125 - 47s - loss: 0.6991 - accuracy: 0.5561 - val_loss: 0.6358 - val_accuracy: 0.7630\n",
      "\n",
      "Epoch 00001: saving model to servier/models\\gru.h5\n",
      "Epoch 2/100\n",
      "125/125 - 31s - loss: 0.6767 - accuracy: 0.5986 - val_loss: 0.6249 - val_accuracy: 0.6910\n",
      "\n",
      "Epoch 00002: saving model to servier/models\\gru.h5\n",
      "Epoch 3/100\n",
      "125/125 - 28s - loss: 0.6560 - accuracy: 0.6342 - val_loss: 0.6491 - val_accuracy: 0.6430\n",
      "\n",
      "Epoch 00003: saving model to servier/models\\gru.h5\n",
      "Epoch 4/100\n",
      "125/125 - 28s - loss: 0.6339 - accuracy: 0.6479 - val_loss: 0.6659 - val_accuracy: 0.5910\n",
      "\n",
      "Epoch 00004: saving model to servier/models\\gru.h5\n",
      "Epoch 5/100\n",
      "125/125 - 30s - loss: 0.6210 - accuracy: 0.6372 - val_loss: 0.7068 - val_accuracy: 0.5540\n",
      "\n",
      "Epoch 00005: saving model to servier/models\\gru.h5\n",
      "Epoch 6/100\n",
      "125/125 - 28s - loss: 0.6161 - accuracy: 0.6439 - val_loss: 0.6633 - val_accuracy: 0.5710\n",
      "\n",
      "Epoch 00006: saving model to servier/models\\gru.h5\n",
      "Epoch 7/100\n",
      "125/125 - 28s - loss: 0.6056 - accuracy: 0.6514 - val_loss: 0.5781 - val_accuracy: 0.6650\n",
      "\n",
      "Epoch 00007: saving model to servier/models\\gru.h5\n",
      "Epoch 8/100\n",
      "125/125 - 26s - loss: 0.6083 - accuracy: 0.6307 - val_loss: 0.6532 - val_accuracy: 0.5860\n",
      "\n",
      "Epoch 00008: saving model to servier/models\\gru.h5\n",
      "Epoch 9/100\n",
      "125/125 - 31s - loss: 0.6072 - accuracy: 0.6447 - val_loss: 0.5312 - val_accuracy: 0.7540\n",
      "\n",
      "Epoch 00009: saving model to servier/models\\gru.h5\n",
      "Epoch 10/100\n",
      "125/125 - 27s - loss: 0.5937 - accuracy: 0.6969 - val_loss: 0.5289 - val_accuracy: 0.7090\n",
      "\n",
      "Epoch 00010: saving model to servier/models\\gru.h5\n",
      "Epoch 11/100\n",
      "125/125 - 29s - loss: 0.6071 - accuracy: 0.6592 - val_loss: 0.5271 - val_accuracy: 0.7620\n",
      "\n",
      "Epoch 00011: saving model to servier/models\\gru.h5\n",
      "Epoch 12/100\n",
      "125/125 - 32s - loss: 0.5982 - accuracy: 0.6597 - val_loss: 0.6002 - val_accuracy: 0.6820\n",
      "\n",
      "Epoch 00012: saving model to servier/models\\gru.h5\n",
      "Epoch 13/100\n",
      "125/125 - 29s - loss: 0.5958 - accuracy: 0.6719 - val_loss: 0.5756 - val_accuracy: 0.7240\n",
      "\n",
      "Epoch 00013: saving model to servier/models\\gru.h5\n",
      "Epoch 14/100\n",
      "125/125 - 29s - loss: 0.5996 - accuracy: 0.6682 - val_loss: 0.5540 - val_accuracy: 0.7240\n",
      "\n",
      "Epoch 00014: saving model to servier/models\\gru.h5\n",
      "Epoch 15/100\n",
      "125/125 - 29s - loss: 0.5957 - accuracy: 0.6729 - val_loss: 0.5946 - val_accuracy: 0.6830\n",
      "\n",
      "Epoch 00015: saving model to servier/models\\gru.h5\n",
      "Epoch 16/100\n",
      "125/125 - 30s - loss: 0.5923 - accuracy: 0.6717 - val_loss: 0.6432 - val_accuracy: 0.5910\n",
      "\n",
      "Epoch 00016: saving model to servier/models\\gru.h5\n",
      "Epoch 17/100\n",
      "125/125 - 29s - loss: 0.5951 - accuracy: 0.6627 - val_loss: 0.5852 - val_accuracy: 0.6990\n",
      "\n",
      "Epoch 00017: saving model to servier/models\\gru.h5\n",
      "Epoch 18/100\n",
      "125/125 - 30s - loss: 0.5895 - accuracy: 0.6769 - val_loss: 0.5893 - val_accuracy: 0.6750\n",
      "\n",
      "Epoch 00018: saving model to servier/models\\gru.h5\n",
      "Epoch 19/100\n",
      "125/125 - 28s - loss: 0.5891 - accuracy: 0.6849 - val_loss: 0.6314 - val_accuracy: 0.6630\n",
      "\n",
      "Epoch 00019: saving model to servier/models\\gru.h5\n",
      "Epoch 20/100\n",
      "125/125 - 30s - loss: 0.5859 - accuracy: 0.6907 - val_loss: 0.5838 - val_accuracy: 0.6920\n",
      "\n",
      "Epoch 00020: saving model to servier/models\\gru.h5\n",
      "Epoch 21/100\n",
      "125/125 - 31s - loss: 0.5947 - accuracy: 0.6752 - val_loss: 0.6543 - val_accuracy: 0.6510\n",
      "\n",
      "Epoch 00021: saving model to servier/models\\gru.h5\n",
      "Epoch 22/100\n",
      "125/125 - 32s - loss: 0.5894 - accuracy: 0.6759 - val_loss: 0.5739 - val_accuracy: 0.7120\n",
      "\n",
      "Epoch 00022: saving model to servier/models\\gru.h5\n",
      "Epoch 23/100\n",
      "125/125 - 27s - loss: 0.5902 - accuracy: 0.6864 - val_loss: 0.6519 - val_accuracy: 0.6540\n",
      "\n",
      "Epoch 00023: saving model to servier/models\\gru.h5\n",
      "Epoch 24/100\n",
      "125/125 - 28s - loss: 0.5825 - accuracy: 0.6812 - val_loss: 0.6114 - val_accuracy: 0.6900\n",
      "\n",
      "Epoch 00024: saving model to servier/models\\gru.h5\n",
      "Epoch 25/100\n",
      "125/125 - 27s - loss: 0.5821 - accuracy: 0.6917 - val_loss: 0.5832 - val_accuracy: 0.7170\n",
      "\n",
      "Epoch 00025: saving model to servier/models\\gru.h5\n",
      "Epoch 26/100\n",
      "125/125 - 30s - loss: 0.5787 - accuracy: 0.6934 - val_loss: 0.5432 - val_accuracy: 0.7450\n",
      "\n",
      "Epoch 00026: saving model to servier/models\\gru.h5\n",
      "Epoch 27/100\n",
      "125/125 - 31s - loss: 0.5745 - accuracy: 0.7127 - val_loss: 0.5615 - val_accuracy: 0.7220\n",
      "\n",
      "Epoch 00027: saving model to servier/models\\gru.h5\n",
      "Epoch 28/100\n",
      "125/125 - 31s - loss: 0.5720 - accuracy: 0.6957 - val_loss: 0.6434 - val_accuracy: 0.6480\n",
      "\n",
      "Epoch 00028: saving model to servier/models\\gru.h5\n",
      "Epoch 29/100\n",
      "125/125 - 29s - loss: 0.5746 - accuracy: 0.6877 - val_loss: 0.6133 - val_accuracy: 0.6320\n",
      "\n",
      "Epoch 00029: saving model to servier/models\\gru.h5\n",
      "Epoch 30/100\n",
      "125/125 - 28s - loss: 0.5618 - accuracy: 0.6687 - val_loss: 0.5885 - val_accuracy: 0.6860\n",
      "\n",
      "Epoch 00030: saving model to servier/models\\gru.h5\n",
      "Epoch 31/100\n",
      "125/125 - 28s - loss: 0.5585 - accuracy: 0.6799 - val_loss: 0.5909 - val_accuracy: 0.6970\n",
      "Restoring model weights from the end of the best epoch.\n",
      "\n",
      "Epoch 00031: saving model to servier/models\\gru.h5\n",
      "Epoch 00031: early stopping\n"
     ]
    }
   ],
   "source": [
    "X_test, y_test, model, history = main.Train(model_type = 'gru')"
   ]
  },
  {
   "cell_type": "code",
   "execution_count": 27,
   "metadata": {},
   "outputs": [],
   "source": [
    "y_pred = main.Predict(X_test, model_type = 'gru')"
   ]
  },
  {
   "cell_type": "code",
   "execution_count": 28,
   "metadata": {},
   "outputs": [
    {
     "data": {
      "text/html": [
       "<div>\n",
       "<style scoped>\n",
       "    .dataframe tbody tr th:only-of-type {\n",
       "        vertical-align: middle;\n",
       "    }\n",
       "\n",
       "    .dataframe tbody tr th {\n",
       "        vertical-align: top;\n",
       "    }\n",
       "\n",
       "    .dataframe thead th {\n",
       "        text-align: right;\n",
       "    }\n",
       "</style>\n",
       "<table border=\"1\" class=\"dataframe\">\n",
       "  <thead>\n",
       "    <tr style=\"text-align: right;\">\n",
       "      <th></th>\n",
       "      <th>accuracy</th>\n",
       "      <th>f1-score</th>\n",
       "      <th>Confusion Matrix</th>\n",
       "    </tr>\n",
       "  </thead>\n",
       "  <tbody>\n",
       "    <tr>\n",
       "      <th>0</th>\n",
       "      <td>0.762</td>\n",
       "      <td>0.587879</td>\n",
       "      <td>[[56, 122], [116, 706]]</td>\n",
       "    </tr>\n",
       "  </tbody>\n",
       "</table>\n",
       "</div>"
      ],
      "text/plain": [
       "   accuracy  f1-score         Confusion Matrix\n",
       "0     0.762  0.587879  [[56, 122], [116, 706]]"
      ]
     },
     "execution_count": 28,
     "metadata": {},
     "output_type": "execute_result"
    }
   ],
   "source": [
    "model_eval_lstm = main.Evaluate(y_test, y_pred)\n",
    "model_eval_lstm"
   ]
  },
  {
   "cell_type": "code",
   "execution_count": 29,
   "metadata": {},
   "outputs": [
    {
     "name": "stdout",
     "output_type": "stream",
     "text": [
      "Test Data Accuracy: 0.7620\n"
     ]
    },
    {
     "data": {
      "image/png": "[encoded data removed]",
      "text/plain": [
       "<Figure size 720x504 with 2 Axes>"
      ]
     },
     "metadata": {},
     "output_type": "display_data"
    }
   ],
   "source": [
    "# Making the Confusion Matrix\n",
    "cm = confusion_matrix(y_test, y_pred) # rows = truth, cols = prediction\n",
    "df_cm = pd.DataFrame(cm, index = (0, 1), columns = (0, 1))\n",
    "plt.figure(figsize = (10,7))\n",
    "sns.set(font_scale=1.4)\n",
    "sns.heatmap(df_cm, annot=True, fmt='g')\n",
    "plt.title(\"Confusion matrix\")\n",
    "plt.ylabel('True class')\n",
    "plt.xlabel('Predicted class')\n",
    "print(\"Test Data Accuracy: %0.4f\" % accuracy_score(y_test, y_pred))"
   ]
  },
  {
   "cell_type": "markdown",
   "metadata": {},
   "source": [
    "### III.1 Model 3: \n",
    "\n",
    "Finally, I will work on an extension of Model 1 to predict the **P1, P2,...,P9** properties of the *dataset_multi.csv* dataset."
   ]
  },
  {
   "cell_type": "code",
   "execution_count": 30,
   "metadata": {},
   "outputs": [
    {
     "name": "stdout",
     "output_type": "stream",
     "text": [
      " Train multi-dimensional classification model\n",
      "Model: \"sequential_4\"\n",
      "_________________________________________________________________\n",
      "Layer (type)                 Output Shape              Param #   \n",
      "=================================================================\n",
      "dense_11 (Dense)             (None, 16)                1200      \n",
      "_________________________________________________________________\n",
      "dense_12 (Dense)             (None, 24)                408       \n",
      "_________________________________________________________________\n",
      "dropout_4 (Dropout)          (None, 24)                0         \n",
      "_________________________________________________________________\n",
      "dense_13 (Dense)             (None, 20)                500       \n",
      "_________________________________________________________________\n",
      "dense_14 (Dense)             (None, 24)                504       \n",
      "_________________________________________________________________\n",
      "dense_15 (Dense)             (None, 9)                 225       \n",
      "=================================================================\n",
      "Total params: 2,837\n",
      "Trainable params: 2,837\n",
      "Non-trainable params: 0\n",
      "_________________________________________________________________\n"
     ]
    }
   ],
   "source": [
    "import os\n",
    "from keras import callbacks\n",
    "from sklearn.utils import class_weight\n",
    "import numpy as np\n",
    "from tensorflow.keras.optimizers import Adam \n",
    "from keras.callbacks import ModelCheckpoint\n",
    "from sklearn.model_selection import train_test_split\n",
    "\n",
    "model_type='lstm'\n",
    "# Load and split  dataset\n",
    "smiles, y, df = main.read_data(config.path_multi, col_smiles='smiles', col_target=config.COL_TARGET_MULTI)\n",
    "tokens, num_words, max_phrase_len = main.generate_tokens(smiles, len_percentile=100)\n",
    "X_train, X_test, y_train, y_test = train_test_split(tokens, y, test_size=0.2, random_state=0)\n",
    "\n",
    "print(' Train multi-dimensional classification model')\n",
    "model = main.create_model(model_type='FF', num_words = num_words, input_length=max_phrase_len, output_dim=9, dropout_rate=config.dropout_rate)"
   ]
  },
  {
   "cell_type": "code",
   "execution_count": 31,
   "metadata": {},
   "outputs": [
    {
     "name": "stderr",
     "output_type": "stream",
     "text": [
      "c:\\Users\\Halrachid\\Anaconda3\\envs\\servier\\lib\\site-packages\\keras\\optimizer_v2\\optimizer_v2.py:356: UserWarning: The `lr` argument is deprecated, use `learning_rate` instead.\n",
      "  \"The `lr` argument is deprecated, use `learning_rate` instead.\")\n"
     ]
    },
    {
     "name": "stdout",
     "output_type": "stream",
     "text": [
      "Epoch 1/100\n",
      "125/125 - 2s - loss: 0.5137 - accuracy: 0.2908 - val_loss: 0.4527 - val_accuracy: 0.0000e+00\n",
      "\n",
      "Epoch 00001: saving model to servier/models\\lstm_multi.h5\n",
      "Epoch 2/100\n",
      "125/125 - 0s - loss: 0.4526 - accuracy: 0.0040 - val_loss: 0.4531 - val_accuracy: 0.0000e+00\n",
      "\n",
      "Epoch 00002: saving model to servier/models\\lstm_multi.h5\n",
      "Epoch 3/100\n",
      "125/125 - 0s - loss: 0.4527 - accuracy: 0.0020 - val_loss: 0.4513 - val_accuracy: 0.0000e+00\n",
      "\n",
      "Epoch 00003: saving model to servier/models\\lstm_multi.h5\n",
      "Epoch 4/100\n",
      "125/125 - 0s - loss: 0.4496 - accuracy: 0.0038 - val_loss: 0.4510 - val_accuracy: 0.0320\n",
      "\n",
      "Epoch 00004: saving model to servier/models\\lstm_multi.h5\n",
      "Epoch 5/100\n",
      "125/125 - 0s - loss: 0.4507 - accuracy: 0.0098 - val_loss: 0.4505 - val_accuracy: 0.0000e+00\n",
      "\n",
      "Epoch 00005: saving model to servier/models\\lstm_multi.h5\n",
      "Epoch 6/100\n",
      "125/125 - 0s - loss: 0.4506 - accuracy: 0.1048 - val_loss: 0.4512 - val_accuracy: 0.0000e+00\n",
      "\n",
      "Epoch 00006: saving model to servier/models\\lstm_multi.h5\n",
      "Epoch 7/100\n",
      "125/125 - 0s - loss: 0.4497 - accuracy: 0.0020 - val_loss: 0.4510 - val_accuracy: 0.0000e+00\n",
      "\n",
      "Epoch 00007: saving model to servier/models\\lstm_multi.h5\n",
      "Epoch 8/100\n",
      "125/125 - 0s - loss: 0.4497 - accuracy: 0.0075 - val_loss: 0.4521 - val_accuracy: 0.0000e+00\n",
      "\n",
      "Epoch 00008: saving model to servier/models\\lstm_multi.h5\n",
      "Epoch 9/100\n",
      "125/125 - 0s - loss: 0.4493 - accuracy: 2.5006e-04 - val_loss: 0.4502 - val_accuracy: 0.0000e+00\n",
      "\n",
      "Epoch 00009: saving model to servier/models\\lstm_multi.h5\n",
      "Epoch 10/100\n",
      "125/125 - 0s - loss: 0.4484 - accuracy: 0.0015 - val_loss: 0.4503 - val_accuracy: 0.0000e+00\n",
      "\n",
      "Epoch 00010: saving model to servier/models\\lstm_multi.h5\n",
      "Epoch 11/100\n",
      "125/125 - 0s - loss: 0.4479 - accuracy: 0.0090 - val_loss: 0.4502 - val_accuracy: 0.0320\n",
      "\n",
      "Epoch 00011: saving model to servier/models\\lstm_multi.h5\n",
      "Epoch 12/100\n",
      "125/125 - 0s - loss: 0.4476 - accuracy: 0.0020 - val_loss: 0.4507 - val_accuracy: 0.0000e+00\n",
      "\n",
      "Epoch 00012: saving model to servier/models\\lstm_multi.h5\n",
      "Epoch 13/100\n",
      "125/125 - 0s - loss: 0.4476 - accuracy: 0.0030 - val_loss: 0.4523 - val_accuracy: 0.0000e+00\n",
      "\n",
      "Epoch 00013: saving model to servier/models\\lstm_multi.h5\n",
      "Epoch 14/100\n",
      "125/125 - 0s - loss: 0.4468 - accuracy: 7.5019e-04 - val_loss: 0.4511 - val_accuracy: 0.0000e+00\n",
      "\n",
      "Epoch 00014: saving model to servier/models\\lstm_multi.h5\n",
      "Epoch 15/100\n",
      "125/125 - 0s - loss: 0.4470 - accuracy: 0.0015 - val_loss: 0.4503 - val_accuracy: 0.0000e+00\n",
      "\n",
      "Epoch 00015: saving model to servier/models\\lstm_multi.h5\n",
      "Epoch 16/100\n",
      "125/125 - 0s - loss: 0.4467 - accuracy: 0.0083 - val_loss: 0.4505 - val_accuracy: 0.0000e+00\n",
      "\n",
      "Epoch 00016: saving model to servier/models\\lstm_multi.h5\n",
      "Epoch 17/100\n",
      "125/125 - 0s - loss: 0.4467 - accuracy: 7.5019e-04 - val_loss: 0.4504 - val_accuracy: 0.0000e+00\n",
      "\n",
      "Epoch 00017: saving model to servier/models\\lstm_multi.h5\n",
      "Epoch 18/100\n",
      "125/125 - 0s - loss: 0.4463 - accuracy: 5.0013e-04 - val_loss: 0.4508 - val_accuracy: 0.0000e+00\n",
      "\n",
      "Epoch 00018: saving model to servier/models\\lstm_multi.h5\n",
      "Epoch 19/100\n",
      "125/125 - 0s - loss: 0.4465 - accuracy: 0.0013 - val_loss: 0.4522 - val_accuracy: 0.0000e+00\n",
      "\n",
      "Epoch 00019: saving model to servier/models\\lstm_multi.h5\n",
      "Epoch 20/100\n",
      "125/125 - 0s - loss: 0.4456 - accuracy: 0.0060 - val_loss: 0.4506 - val_accuracy: 0.0000e+00\n",
      "\n",
      "Epoch 00020: saving model to servier/models\\lstm_multi.h5\n",
      "Epoch 21/100\n",
      "125/125 - 0s - loss: 0.4458 - accuracy: 0.0033 - val_loss: 0.4506 - val_accuracy: 0.0000e+00\n",
      "\n",
      "Epoch 00021: saving model to servier/models\\lstm_multi.h5\n",
      "Epoch 22/100\n",
      "125/125 - 0s - loss: 0.4452 - accuracy: 7.5019e-04 - val_loss: 0.4507 - val_accuracy: 0.0000e+00\n",
      "\n",
      "Epoch 00022: saving model to servier/models\\lstm_multi.h5\n",
      "Epoch 23/100\n",
      "125/125 - 0s - loss: 0.4452 - accuracy: 7.5019e-04 - val_loss: 0.4542 - val_accuracy: 0.0000e+00\n",
      "\n",
      "Epoch 00023: saving model to servier/models\\lstm_multi.h5\n",
      "Epoch 24/100\n",
      "125/125 - 0s - loss: 0.4451 - accuracy: 0.0020 - val_loss: 0.4510 - val_accuracy: 0.0000e+00\n",
      "\n",
      "Epoch 00024: saving model to servier/models\\lstm_multi.h5\n",
      "Epoch 25/100\n",
      "125/125 - 0s - loss: 0.4445 - accuracy: 5.0013e-04 - val_loss: 0.4511 - val_accuracy: 0.0000e+00\n",
      "\n",
      "Epoch 00025: saving model to servier/models\\lstm_multi.h5\n",
      "Epoch 26/100\n",
      "125/125 - 0s - loss: 0.4438 - accuracy: 0.0010 - val_loss: 0.4527 - val_accuracy: 0.0000e+00\n",
      "\n",
      "Epoch 00026: saving model to servier/models\\lstm_multi.h5\n",
      "Epoch 27/100\n",
      "125/125 - 0s - loss: 0.4437 - accuracy: 0.0015 - val_loss: 0.4529 - val_accuracy: 0.0000e+00\n",
      "\n",
      "Epoch 00027: saving model to servier/models\\lstm_multi.h5\n",
      "Epoch 28/100\n",
      "125/125 - 0s - loss: 0.4437 - accuracy: 0.0115 - val_loss: 0.4519 - val_accuracy: 0.0000e+00\n",
      "\n",
      "Epoch 00028: saving model to servier/models\\lstm_multi.h5\n",
      "Epoch 29/100\n",
      "125/125 - 0s - loss: 0.4430 - accuracy: 0.0018 - val_loss: 0.4520 - val_accuracy: 0.0000e+00\n",
      "\n",
      "Epoch 00029: saving model to servier/models\\lstm_multi.h5\n",
      "Epoch 30/100\n",
      "125/125 - 0s - loss: 0.4432 - accuracy: 0.0020 - val_loss: 0.4534 - val_accuracy: 0.0000e+00\n",
      "\n",
      "Epoch 00030: saving model to servier/models\\lstm_multi.h5\n",
      "Epoch 31/100\n",
      "125/125 - 0s - loss: 0.4428 - accuracy: 0.0058 - val_loss: 0.4538 - val_accuracy: 0.0000e+00\n",
      "\n",
      "Epoch 00031: saving model to servier/models\\lstm_multi.h5\n",
      "Epoch 32/100\n",
      "125/125 - 0s - loss: 0.4424 - accuracy: 0.0018 - val_loss: 0.4523 - val_accuracy: 0.0000e+00\n",
      "\n",
      "Epoch 00032: saving model to servier/models\\lstm_multi.h5\n",
      "Epoch 33/100\n",
      "125/125 - 0s - loss: 0.4420 - accuracy: 0.0028 - val_loss: 0.4533 - val_accuracy: 0.0000e+00\n",
      "\n",
      "Epoch 00033: saving model to servier/models\\lstm_multi.h5\n",
      "Epoch 34/100\n",
      "125/125 - 0s - loss: 0.4415 - accuracy: 0.0063 - val_loss: 0.4539 - val_accuracy: 0.0000e+00\n",
      "\n",
      "Epoch 00034: saving model to servier/models\\lstm_multi.h5\n",
      "Epoch 35/100\n",
      "125/125 - 0s - loss: 0.4410 - accuracy: 0.0028 - val_loss: 0.4534 - val_accuracy: 0.0000e+00\n",
      "\n",
      "Epoch 00035: saving model to servier/models\\lstm_multi.h5\n",
      "Epoch 36/100\n",
      "125/125 - 0s - loss: 0.4413 - accuracy: 0.0028 - val_loss: 0.4539 - val_accuracy: 0.0120\n",
      "\n",
      "Epoch 00036: saving model to servier/models\\lstm_multi.h5\n",
      "Epoch 37/100\n",
      "125/125 - 0s - loss: 0.4402 - accuracy: 0.0023 - val_loss: 0.4538 - val_accuracy: 0.0000e+00\n",
      "\n",
      "Epoch 00037: saving model to servier/models\\lstm_multi.h5\n",
      "Epoch 38/100\n",
      "125/125 - 0s - loss: 0.4397 - accuracy: 0.0028 - val_loss: 0.4530 - val_accuracy: 0.0100\n",
      "\n",
      "Epoch 00038: saving model to servier/models\\lstm_multi.h5\n",
      "Epoch 39/100\n",
      "125/125 - 0s - loss: 0.4388 - accuracy: 0.0025 - val_loss: 0.4547 - val_accuracy: 0.0020\n",
      "\n",
      "Epoch 00039: saving model to servier/models\\lstm_multi.h5\n",
      "Epoch 40/100\n",
      "125/125 - 0s - loss: 0.4388 - accuracy: 0.0030 - val_loss: 0.4578 - val_accuracy: 0.0220\n",
      "\n",
      "Epoch 00040: saving model to servier/models\\lstm_multi.h5\n",
      "Epoch 41/100\n",
      "125/125 - 0s - loss: 0.4378 - accuracy: 0.0165 - val_loss: 0.4555 - val_accuracy: 0.0220\n",
      "\n",
      "Epoch 00041: saving model to servier/models\\lstm_multi.h5\n",
      "Epoch 42/100\n",
      "125/125 - 0s - loss: 0.4374 - accuracy: 0.0080 - val_loss: 0.4563 - val_accuracy: 0.0030\n",
      "\n",
      "Epoch 00042: saving model to servier/models\\lstm_multi.h5\n",
      "Epoch 43/100\n",
      "125/125 - 0s - loss: 0.4370 - accuracy: 0.0083 - val_loss: 0.4570 - val_accuracy: 0.0000e+00\n",
      "\n",
      "Epoch 00043: saving model to servier/models\\lstm_multi.h5\n",
      "Epoch 44/100\n",
      "125/125 - 0s - loss: 0.4361 - accuracy: 0.0050 - val_loss: 0.4563 - val_accuracy: 0.0030\n",
      "\n",
      "Epoch 00044: saving model to servier/models\\lstm_multi.h5\n",
      "Epoch 45/100\n",
      "125/125 - 0s - loss: 0.4356 - accuracy: 0.0078 - val_loss: 0.4577 - val_accuracy: 0.0000e+00\n",
      "\n",
      "Epoch 00045: saving model to servier/models\\lstm_multi.h5\n",
      "Epoch 46/100\n",
      "125/125 - 0s - loss: 0.4353 - accuracy: 0.0045 - val_loss: 0.4587 - val_accuracy: 0.0040\n",
      "\n",
      "Epoch 00046: saving model to servier/models\\lstm_multi.h5\n",
      "Epoch 47/100\n",
      "125/125 - 0s - loss: 0.4337 - accuracy: 0.0090 - val_loss: 0.4591 - val_accuracy: 0.0000e+00\n",
      "\n",
      "Epoch 00047: saving model to servier/models\\lstm_multi.h5\n",
      "Epoch 48/100\n",
      "125/125 - 0s - loss: 0.4336 - accuracy: 0.0060 - val_loss: 0.4596 - val_accuracy: 0.0090\n",
      "\n",
      "Epoch 00048: saving model to servier/models\\lstm_multi.h5\n",
      "Epoch 49/100\n",
      "125/125 - 0s - loss: 0.4328 - accuracy: 0.0048 - val_loss: 0.4600 - val_accuracy: 0.0120\n",
      "\n",
      "Epoch 00049: saving model to servier/models\\lstm_multi.h5\n",
      "Epoch 50/100\n",
      "125/125 - 0s - loss: 0.4334 - accuracy: 0.0080 - val_loss: 0.4593 - val_accuracy: 0.0110\n",
      "\n",
      "Epoch 00050: saving model to servier/models\\lstm_multi.h5\n",
      "Epoch 51/100\n",
      "125/125 - 0s - loss: 0.4320 - accuracy: 0.0063 - val_loss: 0.4604 - val_accuracy: 0.0070\n",
      "\n",
      "Epoch 00051: saving model to servier/models\\lstm_multi.h5\n",
      "Epoch 52/100\n",
      "125/125 - 0s - loss: 0.4315 - accuracy: 0.0085 - val_loss: 0.4626 - val_accuracy: 0.0110\n",
      "\n",
      "Epoch 00052: saving model to servier/models\\lstm_multi.h5\n",
      "Epoch 53/100\n",
      "125/125 - 0s - loss: 0.4305 - accuracy: 0.0073 - val_loss: 0.4649 - val_accuracy: 0.0070\n",
      "\n",
      "Epoch 00053: saving model to servier/models\\lstm_multi.h5\n",
      "Epoch 54/100\n",
      "125/125 - 0s - loss: 0.4298 - accuracy: 0.0070 - val_loss: 0.4625 - val_accuracy: 0.0130\n",
      "\n",
      "Epoch 00054: saving model to servier/models\\lstm_multi.h5\n",
      "Epoch 55/100\n",
      "125/125 - 0s - loss: 0.4303 - accuracy: 0.0068 - val_loss: 0.4628 - val_accuracy: 0.0130\n",
      "\n",
      "Epoch 00055: saving model to servier/models\\lstm_multi.h5\n",
      "Epoch 56/100\n",
      "125/125 - 0s - loss: 0.4292 - accuracy: 0.0073 - val_loss: 0.4612 - val_accuracy: 0.0110\n",
      "\n",
      "Epoch 00056: saving model to servier/models\\lstm_multi.h5\n",
      "Epoch 57/100\n",
      "125/125 - 0s - loss: 0.4280 - accuracy: 0.0060 - val_loss: 0.4652 - val_accuracy: 0.0110\n",
      "\n",
      "Epoch 00057: saving model to servier/models\\lstm_multi.h5\n",
      "Epoch 58/100\n",
      "125/125 - 0s - loss: 0.4284 - accuracy: 0.0075 - val_loss: 0.4641 - val_accuracy: 0.0090\n",
      "\n",
      "Epoch 00058: saving model to servier/models\\lstm_multi.h5\n",
      "Epoch 59/100\n",
      "125/125 - 0s - loss: 0.4282 - accuracy: 0.0075 - val_loss: 0.4717 - val_accuracy: 0.0130\n",
      "Restoring model weights from the end of the best epoch.\n",
      "\n",
      "Epoch 00059: saving model to servier/models\\lstm_multi.h5\n",
      "Epoch 00059: early stopping\n"
     ]
    }
   ],
   "source": [
    "\n",
    "# Callback list\n",
    "callback_list = []\n",
    "# monitor val_loss and terminate training if no improvement\n",
    "early_stop = callbacks.EarlyStopping(monitor='val_loss', min_delta=0.00001, patience=50, verbose=2, mode='auto', restore_best_weights=True)\n",
    "callback_list.append(early_stop)\n",
    "\n",
    "# Train only classification head\n",
    "optimizer = Adam(lr=config.lr, decay=1e-6)\n",
    "model.compile(loss='binary_crossentropy', optimizer=optimizer, metrics=['accuracy'])\n",
    "\n",
    "models_folder = 'servier/models'\n",
    "os.makedirs(models_folder, exist_ok=True)\n",
    "\n",
    "checkpointer = ModelCheckpoint(os.path.join(models_folder,'lstm' + '_multi.h5'), monitor='val_acc', verbose=1, save_weights_only=False, save_best_only=False, mode='auto') \n",
    "callback_list.append(checkpointer)\n",
    "        \n",
    "history = model.fit(X_train, y_train, validation_data=(X_test, y_test), epochs=config.nb_epochs, callbacks=callback_list, verbose=2)\n"
   ]
  },
  {
   "cell_type": "code",
   "execution_count": 32,
   "metadata": {},
   "outputs": [],
   "source": [
    "y_pred = model.predict(X_test)\n",
    "y_pred = (y_pred > 0.5).astype('uint8')"
   ]
  },
  {
   "cell_type": "code",
   "execution_count": 33,
   "metadata": {},
   "outputs": [
    {
     "name": "stdout",
     "output_type": "stream",
     "text": [
      "Accuracy= 0.281\n",
      "F1 score= 0.9092097692818741\n"
     ]
    }
   ],
   "source": [
    "from sklearn.metrics import accuracy_score, f1_score, confusion_matrix\n",
    "print('Accuracy=', accuracy_score(y_test, y_pred))\n",
    "print('F1 score=', f1_score(y_test, y_pred, labels=None, average='macro', sample_weight=None))\n"
   ]
  },
  {
   "cell_type": "markdown",
   "metadata": {},
   "source": [
    "The model is not very performant and it needs optimisation and more data to support high dimension requirements."
   ]
  },
  {
   "cell_type": "code",
   "execution_count": null,
   "metadata": {},
   "outputs": [],
   "source": []
  }
 ],
 "metadata": {
  "interpreter": {
   "hash": "5a810cd5ef5573c2707248658ea49388563927d2fab3350fc44f966a75cf65d7"
  },
  "kernelspec": {
   "display_name": "Python 3.6.13 ('servier')",
   "language": "python",
   "name": "python3"
  },
  "language_info": {
   "codemirror_mode": {
    "name": "ipython",
    "version": 3
   },
   "file_extension": ".py",
   "mimetype": "text/x-python",
   "name": "python",
   "nbconvert_exporter": "python",
   "pygments_lexer": "ipython3",
   "version": "3.6.13"
  },
  "orig_nbformat": 4
 },
 "nbformat": 4,
 "nbformat_minor": 2
}
